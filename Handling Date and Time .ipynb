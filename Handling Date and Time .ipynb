{
 "cells": [
  {
   "cell_type": "code",
   "execution_count": 1,
   "id": "a7ed9dbb",
   "metadata": {},
   "outputs": [],
   "source": [
    "import numpy as np \n",
    "import pandas as pd "
   ]
  },
  {
   "cell_type": "code",
   "execution_count": 2,
   "id": "c04c70fc",
   "metadata": {},
   "outputs": [],
   "source": [
    "date = pd.read_csv('Movies.csv')"
   ]
  },
  {
   "cell_type": "code",
   "execution_count": 3,
   "id": "7b190d41",
   "metadata": {},
   "outputs": [
    {
     "data": {
      "text/html": [
       "<div>\n",
       "<style scoped>\n",
       "    .dataframe tbody tr th:only-of-type {\n",
       "        vertical-align: middle;\n",
       "    }\n",
       "\n",
       "    .dataframe tbody tr th {\n",
       "        vertical-align: top;\n",
       "    }\n",
       "\n",
       "    .dataframe thead th {\n",
       "        text-align: right;\n",
       "    }\n",
       "</style>\n",
       "<table border=\"1\" class=\"dataframe\">\n",
       "  <thead>\n",
       "    <tr style=\"text-align: right;\">\n",
       "      <th></th>\n",
       "      <th>Unnamed: 0</th>\n",
       "      <th>id</th>\n",
       "      <th>title</th>\n",
       "      <th>overview</th>\n",
       "      <th>release_date</th>\n",
       "      <th>popularity</th>\n",
       "      <th>vote_average</th>\n",
       "      <th>vote_count</th>\n",
       "    </tr>\n",
       "  </thead>\n",
       "  <tbody>\n",
       "    <tr>\n",
       "      <th>0</th>\n",
       "      <td>0</td>\n",
       "      <td>278</td>\n",
       "      <td>The Shawshank Redemption</td>\n",
       "      <td>Framed in the 1940s for the double murder of h...</td>\n",
       "      <td>1994-09-23</td>\n",
       "      <td>119.766</td>\n",
       "      <td>8.712</td>\n",
       "      <td>25525</td>\n",
       "    </tr>\n",
       "    <tr>\n",
       "      <th>1</th>\n",
       "      <td>1</td>\n",
       "      <td>238</td>\n",
       "      <td>The Godfather</td>\n",
       "      <td>Spanning the years 1945 to 1955, a chronicle o...</td>\n",
       "      <td>1972-03-14</td>\n",
       "      <td>105.608</td>\n",
       "      <td>8.707</td>\n",
       "      <td>19420</td>\n",
       "    </tr>\n",
       "    <tr>\n",
       "      <th>2</th>\n",
       "      <td>2</td>\n",
       "      <td>240</td>\n",
       "      <td>The Godfather Part II</td>\n",
       "      <td>In the continuing saga of the Corleone crime f...</td>\n",
       "      <td>1974-12-20</td>\n",
       "      <td>86.122</td>\n",
       "      <td>8.600</td>\n",
       "      <td>11712</td>\n",
       "    </tr>\n",
       "    <tr>\n",
       "      <th>3</th>\n",
       "      <td>3</td>\n",
       "      <td>424</td>\n",
       "      <td>Schindler's List</td>\n",
       "      <td>The true story of how businessman Oskar Schind...</td>\n",
       "      <td>1993-12-15</td>\n",
       "      <td>72.147</td>\n",
       "      <td>8.571</td>\n",
       "      <td>15095</td>\n",
       "    </tr>\n",
       "    <tr>\n",
       "      <th>4</th>\n",
       "      <td>4</td>\n",
       "      <td>389</td>\n",
       "      <td>12 Angry Men</td>\n",
       "      <td>The defense and the prosecution have rested an...</td>\n",
       "      <td>1957-04-10</td>\n",
       "      <td>47.243</td>\n",
       "      <td>8.500</td>\n",
       "      <td>8016</td>\n",
       "    </tr>\n",
       "  </tbody>\n",
       "</table>\n",
       "</div>"
      ],
      "text/plain": [
       "   Unnamed: 0   id                     title  \\\n",
       "0           0  278  The Shawshank Redemption   \n",
       "1           1  238             The Godfather   \n",
       "2           2  240     The Godfather Part II   \n",
       "3           3  424          Schindler's List   \n",
       "4           4  389              12 Angry Men   \n",
       "\n",
       "                                            overview release_date  popularity  \\\n",
       "0  Framed in the 1940s for the double murder of h...   1994-09-23     119.766   \n",
       "1  Spanning the years 1945 to 1955, a chronicle o...   1972-03-14     105.608   \n",
       "2  In the continuing saga of the Corleone crime f...   1974-12-20      86.122   \n",
       "3  The true story of how businessman Oskar Schind...   1993-12-15      72.147   \n",
       "4  The defense and the prosecution have rested an...   1957-04-10      47.243   \n",
       "\n",
       "   vote_average  vote_count  \n",
       "0         8.712       25525  \n",
       "1         8.707       19420  \n",
       "2         8.600       11712  \n",
       "3         8.571       15095  \n",
       "4         8.500        8016  "
      ]
     },
     "execution_count": 3,
     "metadata": {},
     "output_type": "execute_result"
    }
   ],
   "source": [
    "date.head()"
   ]
  },
  {
   "cell_type": "code",
   "execution_count": 4,
   "id": "2bdacb22",
   "metadata": {},
   "outputs": [],
   "source": [
    "df = date.drop(columns=['title','overview','vote_average'])"
   ]
  },
  {
   "cell_type": "code",
   "execution_count": 5,
   "id": "20c1bd05",
   "metadata": {},
   "outputs": [
    {
     "data": {
      "text/html": [
       "<div>\n",
       "<style scoped>\n",
       "    .dataframe tbody tr th:only-of-type {\n",
       "        vertical-align: middle;\n",
       "    }\n",
       "\n",
       "    .dataframe tbody tr th {\n",
       "        vertical-align: top;\n",
       "    }\n",
       "\n",
       "    .dataframe thead th {\n",
       "        text-align: right;\n",
       "    }\n",
       "</style>\n",
       "<table border=\"1\" class=\"dataframe\">\n",
       "  <thead>\n",
       "    <tr style=\"text-align: right;\">\n",
       "      <th></th>\n",
       "      <th>Unnamed: 0</th>\n",
       "      <th>id</th>\n",
       "      <th>release_date</th>\n",
       "      <th>popularity</th>\n",
       "      <th>vote_count</th>\n",
       "    </tr>\n",
       "  </thead>\n",
       "  <tbody>\n",
       "    <tr>\n",
       "      <th>0</th>\n",
       "      <td>0</td>\n",
       "      <td>278</td>\n",
       "      <td>1994-09-23</td>\n",
       "      <td>119.766</td>\n",
       "      <td>25525</td>\n",
       "    </tr>\n",
       "    <tr>\n",
       "      <th>1</th>\n",
       "      <td>1</td>\n",
       "      <td>238</td>\n",
       "      <td>1972-03-14</td>\n",
       "      <td>105.608</td>\n",
       "      <td>19420</td>\n",
       "    </tr>\n",
       "    <tr>\n",
       "      <th>2</th>\n",
       "      <td>2</td>\n",
       "      <td>240</td>\n",
       "      <td>1974-12-20</td>\n",
       "      <td>86.122</td>\n",
       "      <td>11712</td>\n",
       "    </tr>\n",
       "    <tr>\n",
       "      <th>3</th>\n",
       "      <td>3</td>\n",
       "      <td>424</td>\n",
       "      <td>1993-12-15</td>\n",
       "      <td>72.147</td>\n",
       "      <td>15095</td>\n",
       "    </tr>\n",
       "    <tr>\n",
       "      <th>4</th>\n",
       "      <td>4</td>\n",
       "      <td>389</td>\n",
       "      <td>1957-04-10</td>\n",
       "      <td>47.243</td>\n",
       "      <td>8016</td>\n",
       "    </tr>\n",
       "  </tbody>\n",
       "</table>\n",
       "</div>"
      ],
      "text/plain": [
       "   Unnamed: 0   id release_date  popularity  vote_count\n",
       "0           0  278   1994-09-23     119.766       25525\n",
       "1           1  238   1972-03-14     105.608       19420\n",
       "2           2  240   1974-12-20      86.122       11712\n",
       "3           3  424   1993-12-15      72.147       15095\n",
       "4           4  389   1957-04-10      47.243        8016"
      ]
     },
     "execution_count": 5,
     "metadata": {},
     "output_type": "execute_result"
    }
   ],
   "source": [
    "df.head()"
   ]
  },
  {
   "cell_type": "code",
   "execution_count": 6,
   "id": "af45614f",
   "metadata": {},
   "outputs": [
    {
     "name": "stdout",
     "output_type": "stream",
     "text": [
      "<class 'pandas.core.frame.DataFrame'>\n",
      "RangeIndex: 80 entries, 0 to 79\n",
      "Data columns (total 5 columns):\n",
      " #   Column        Non-Null Count  Dtype  \n",
      "---  ------        --------------  -----  \n",
      " 0   Unnamed: 0    80 non-null     int64  \n",
      " 1   id            80 non-null     int64  \n",
      " 2   release_date  80 non-null     object \n",
      " 3   popularity    80 non-null     float64\n",
      " 4   vote_count    80 non-null     int64  \n",
      "dtypes: float64(1), int64(3), object(1)\n",
      "memory usage: 3.3+ KB\n"
     ]
    }
   ],
   "source": [
    "df.info()"
   ]
  },
  {
   "cell_type": "code",
   "execution_count": 7,
   "id": "80adbbfc",
   "metadata": {},
   "outputs": [],
   "source": [
    "df['release_date'] = pd.to_datetime(df['release_date'])"
   ]
  },
  {
   "cell_type": "code",
   "execution_count": 8,
   "id": "57977f36",
   "metadata": {},
   "outputs": [
    {
     "name": "stdout",
     "output_type": "stream",
     "text": [
      "<class 'pandas.core.frame.DataFrame'>\n",
      "RangeIndex: 80 entries, 0 to 79\n",
      "Data columns (total 5 columns):\n",
      " #   Column        Non-Null Count  Dtype         \n",
      "---  ------        --------------  -----         \n",
      " 0   Unnamed: 0    80 non-null     int64         \n",
      " 1   id            80 non-null     int64         \n",
      " 2   release_date  80 non-null     datetime64[ns]\n",
      " 3   popularity    80 non-null     float64       \n",
      " 4   vote_count    80 non-null     int64         \n",
      "dtypes: datetime64[ns](1), float64(1), int64(3)\n",
      "memory usage: 3.3 KB\n"
     ]
    }
   ],
   "source": [
    "df.info()"
   ]
  },
  {
   "cell_type": "code",
   "execution_count": 9,
   "id": "75edfcd0",
   "metadata": {},
   "outputs": [],
   "source": [
    "# Extract year\n",
    "df['df_year'] = df['release_date'].dt.year"
   ]
  },
  {
   "cell_type": "code",
   "execution_count": 10,
   "id": "2fbade46",
   "metadata": {},
   "outputs": [],
   "source": [
    "# Extract Month\n",
    "df['df_Month'] = df['release_date'].dt.month"
   ]
  },
  {
   "cell_type": "code",
   "execution_count": 11,
   "id": "38fa30c0",
   "metadata": {},
   "outputs": [],
   "source": [
    "df['df_Month_Name'] = df['release_date'].dt.month_name()"
   ]
  },
  {
   "cell_type": "code",
   "execution_count": 12,
   "id": "84f43513",
   "metadata": {},
   "outputs": [],
   "source": [
    "# Extract Days\n",
    "df['df_Days'] = df['release_date'].dt.day"
   ]
  },
  {
   "cell_type": "code",
   "execution_count": 13,
   "id": "1ff678e2",
   "metadata": {},
   "outputs": [],
   "source": [
    "# Day of week\n",
    "df['df_day_of_week'] = df['release_date'].dt.dayofweek"
   ]
  },
  {
   "cell_type": "code",
   "execution_count": 16,
   "id": "f6e7c453",
   "metadata": {},
   "outputs": [],
   "source": [
    "df['df_Day_Name'] = df['release_date'].dt.day_name()"
   ]
  },
  {
   "cell_type": "code",
   "execution_count": 15,
   "id": "b6105342",
   "metadata": {},
   "outputs": [
    {
     "data": {
      "text/html": [
       "<div>\n",
       "<style scoped>\n",
       "    .dataframe tbody tr th:only-of-type {\n",
       "        vertical-align: middle;\n",
       "    }\n",
       "\n",
       "    .dataframe tbody tr th {\n",
       "        vertical-align: top;\n",
       "    }\n",
       "\n",
       "    .dataframe thead th {\n",
       "        text-align: right;\n",
       "    }\n",
       "</style>\n",
       "<table border=\"1\" class=\"dataframe\">\n",
       "  <thead>\n",
       "    <tr style=\"text-align: right;\">\n",
       "      <th></th>\n",
       "      <th>release_date</th>\n",
       "      <th>df_year</th>\n",
       "      <th>df_Month</th>\n",
       "      <th>df_Month_Name</th>\n",
       "      <th>df_Days</th>\n",
       "      <th>df_day_of_week</th>\n",
       "      <th>df_Day_Name</th>\n",
       "      <th>date_is_weekend</th>\n",
       "    </tr>\n",
       "  </thead>\n",
       "  <tbody>\n",
       "    <tr>\n",
       "      <th>63</th>\n",
       "      <td>1963-03-01</td>\n",
       "      <td>1963</td>\n",
       "      <td>3</td>\n",
       "      <td>March</td>\n",
       "      <td>1</td>\n",
       "      <td>4</td>\n",
       "      <td>Friday</td>\n",
       "      <td>0</td>\n",
       "    </tr>\n",
       "    <tr>\n",
       "      <th>18</th>\n",
       "      <td>1954-04-26</td>\n",
       "      <td>1954</td>\n",
       "      <td>4</td>\n",
       "      <td>April</td>\n",
       "      <td>26</td>\n",
       "      <td>0</td>\n",
       "      <td>Monday</td>\n",
       "      <td>0</td>\n",
       "    </tr>\n",
       "    <tr>\n",
       "      <th>15</th>\n",
       "      <td>1990-09-12</td>\n",
       "      <td>1990</td>\n",
       "      <td>9</td>\n",
       "      <td>September</td>\n",
       "      <td>12</td>\n",
       "      <td>2</td>\n",
       "      <td>Wednesday</td>\n",
       "      <td>0</td>\n",
       "    </tr>\n",
       "    <tr>\n",
       "      <th>38</th>\n",
       "      <td>2002-12-18</td>\n",
       "      <td>2002</td>\n",
       "      <td>12</td>\n",
       "      <td>December</td>\n",
       "      <td>18</td>\n",
       "      <td>2</td>\n",
       "      <td>Wednesday</td>\n",
       "      <td>0</td>\n",
       "    </tr>\n",
       "    <tr>\n",
       "      <th>23</th>\n",
       "      <td>1960-06-22</td>\n",
       "      <td>1960</td>\n",
       "      <td>6</td>\n",
       "      <td>June</td>\n",
       "      <td>22</td>\n",
       "      <td>2</td>\n",
       "      <td>Wednesday</td>\n",
       "      <td>0</td>\n",
       "    </tr>\n",
       "    <tr>\n",
       "      <th>45</th>\n",
       "      <td>1962-09-15</td>\n",
       "      <td>1962</td>\n",
       "      <td>9</td>\n",
       "      <td>September</td>\n",
       "      <td>15</td>\n",
       "      <td>5</td>\n",
       "      <td>Saturday</td>\n",
       "      <td>1</td>\n",
       "    </tr>\n",
       "  </tbody>\n",
       "</table>\n",
       "</div>"
      ],
      "text/plain": [
       "   release_date  df_year  df_Month df_Month_Name  df_Days  df_day_of_week  \\\n",
       "63   1963-03-01     1963         3         March        1               4   \n",
       "18   1954-04-26     1954         4         April       26               0   \n",
       "15   1990-09-12     1990         9     September       12               2   \n",
       "38   2002-12-18     2002        12      December       18               2   \n",
       "23   1960-06-22     1960         6          June       22               2   \n",
       "45   1962-09-15     1962         9     September       15               5   \n",
       "\n",
       "   df_Day_Name  date_is_weekend  \n",
       "63      Friday                0  \n",
       "18      Monday                0  \n",
       "15   Wednesday                0  \n",
       "38   Wednesday                0  \n",
       "23   Wednesday                0  \n",
       "45    Saturday                1  "
      ]
     },
     "execution_count": 15,
     "metadata": {},
     "output_type": "execute_result"
    }
   ],
   "source": [
    "# is weekend\n",
    "df['date_is_weekend'] = np.where(df['df_Day_Name'].isin(['Sunday','Saturday']), 1,0)\n",
    "df.drop(columns=['Unnamed: 0','id','popularity','vote_count']).sample(6)"
   ]
  },
  {
   "cell_type": "code",
   "execution_count": 26,
   "id": "dfa281e6",
   "metadata": {},
   "outputs": [],
   "source": [
    "# Extract week of the year\n",
    "# df['week_of_the_year'] = df['release_date'].dt.week\n",
    "# df.drop(columns=['Unnamed: 0','id','popularity','vote_count']).sample(6)"
   ]
  },
  {
   "cell_type": "code",
   "execution_count": 29,
   "id": "16f42ee7",
   "metadata": {},
   "outputs": [
    {
     "data": {
      "text/html": [
       "<div>\n",
       "<style scoped>\n",
       "    .dataframe tbody tr th:only-of-type {\n",
       "        vertical-align: middle;\n",
       "    }\n",
       "\n",
       "    .dataframe tbody tr th {\n",
       "        vertical-align: top;\n",
       "    }\n",
       "\n",
       "    .dataframe thead th {\n",
       "        text-align: right;\n",
       "    }\n",
       "</style>\n",
       "<table border=\"1\" class=\"dataframe\">\n",
       "  <thead>\n",
       "    <tr style=\"text-align: right;\">\n",
       "      <th></th>\n",
       "      <th>release_date</th>\n",
       "      <th>df_year</th>\n",
       "      <th>df_Month</th>\n",
       "      <th>df_Month_Name</th>\n",
       "      <th>df_Days</th>\n",
       "      <th>df_day_of_week</th>\n",
       "      <th>df_Day_Name</th>\n",
       "      <th>date_is_weekend</th>\n",
       "      <th>Quarter</th>\n",
       "    </tr>\n",
       "  </thead>\n",
       "  <tbody>\n",
       "    <tr>\n",
       "      <th>0</th>\n",
       "      <td>1994-09-23</td>\n",
       "      <td>1994</td>\n",
       "      <td>9</td>\n",
       "      <td>September</td>\n",
       "      <td>23</td>\n",
       "      <td>4</td>\n",
       "      <td>Friday</td>\n",
       "      <td>0</td>\n",
       "      <td>3</td>\n",
       "    </tr>\n",
       "    <tr>\n",
       "      <th>1</th>\n",
       "      <td>1972-03-14</td>\n",
       "      <td>1972</td>\n",
       "      <td>3</td>\n",
       "      <td>March</td>\n",
       "      <td>14</td>\n",
       "      <td>1</td>\n",
       "      <td>Tuesday</td>\n",
       "      <td>0</td>\n",
       "      <td>1</td>\n",
       "    </tr>\n",
       "    <tr>\n",
       "      <th>2</th>\n",
       "      <td>1974-12-20</td>\n",
       "      <td>1974</td>\n",
       "      <td>12</td>\n",
       "      <td>December</td>\n",
       "      <td>20</td>\n",
       "      <td>4</td>\n",
       "      <td>Friday</td>\n",
       "      <td>0</td>\n",
       "      <td>4</td>\n",
       "    </tr>\n",
       "    <tr>\n",
       "      <th>3</th>\n",
       "      <td>1993-12-15</td>\n",
       "      <td>1993</td>\n",
       "      <td>12</td>\n",
       "      <td>December</td>\n",
       "      <td>15</td>\n",
       "      <td>2</td>\n",
       "      <td>Wednesday</td>\n",
       "      <td>0</td>\n",
       "      <td>4</td>\n",
       "    </tr>\n",
       "    <tr>\n",
       "      <th>4</th>\n",
       "      <td>1957-04-10</td>\n",
       "      <td>1957</td>\n",
       "      <td>4</td>\n",
       "      <td>April</td>\n",
       "      <td>10</td>\n",
       "      <td>2</td>\n",
       "      <td>Wednesday</td>\n",
       "      <td>0</td>\n",
       "      <td>2</td>\n",
       "    </tr>\n",
       "  </tbody>\n",
       "</table>\n",
       "</div>"
      ],
      "text/plain": [
       "  release_date  df_year  df_Month df_Month_Name  df_Days  df_day_of_week  \\\n",
       "0   1994-09-23     1994         9     September       23               4   \n",
       "1   1972-03-14     1972         3         March       14               1   \n",
       "2   1974-12-20     1974        12      December       20               4   \n",
       "3   1993-12-15     1993        12      December       15               2   \n",
       "4   1957-04-10     1957         4         April       10               2   \n",
       "\n",
       "  df_Day_Name  date_is_weekend  Quarter  \n",
       "0      Friday                0        3  \n",
       "1     Tuesday                0        1  \n",
       "2      Friday                0        4  \n",
       "3   Wednesday                0        4  \n",
       "4   Wednesday                0        2  "
      ]
     },
     "execution_count": 29,
     "metadata": {},
     "output_type": "execute_result"
    }
   ],
   "source": [
    "# Extract Quarter\n",
    "df['Quarter'] = df['release_date'].dt.quarter\n",
    "df.drop(columns=['Unnamed: 0','id','popularity','vote_count']).head()"
   ]
  },
  {
   "cell_type": "code",
   "execution_count": 33,
   "id": "08690703",
   "metadata": {},
   "outputs": [
    {
     "data": {
      "text/html": [
       "<div>\n",
       "<style scoped>\n",
       "    .dataframe tbody tr th:only-of-type {\n",
       "        vertical-align: middle;\n",
       "    }\n",
       "\n",
       "    .dataframe tbody tr th {\n",
       "        vertical-align: top;\n",
       "    }\n",
       "\n",
       "    .dataframe thead th {\n",
       "        text-align: right;\n",
       "    }\n",
       "</style>\n",
       "<table border=\"1\" class=\"dataframe\">\n",
       "  <thead>\n",
       "    <tr style=\"text-align: right;\">\n",
       "      <th></th>\n",
       "      <th>release_date</th>\n",
       "      <th>df_year</th>\n",
       "      <th>df_Month</th>\n",
       "      <th>df_Month_Name</th>\n",
       "      <th>df_Days</th>\n",
       "      <th>df_day_of_week</th>\n",
       "      <th>df_Day_Name</th>\n",
       "      <th>date_is_weekend</th>\n",
       "      <th>Quarter</th>\n",
       "      <th>Smester</th>\n",
       "    </tr>\n",
       "  </thead>\n",
       "  <tbody>\n",
       "    <tr>\n",
       "      <th>0</th>\n",
       "      <td>1994-09-23</td>\n",
       "      <td>1994</td>\n",
       "      <td>9</td>\n",
       "      <td>September</td>\n",
       "      <td>23</td>\n",
       "      <td>4</td>\n",
       "      <td>Friday</td>\n",
       "      <td>0</td>\n",
       "      <td>3</td>\n",
       "      <td>2</td>\n",
       "    </tr>\n",
       "    <tr>\n",
       "      <th>1</th>\n",
       "      <td>1972-03-14</td>\n",
       "      <td>1972</td>\n",
       "      <td>3</td>\n",
       "      <td>March</td>\n",
       "      <td>14</td>\n",
       "      <td>1</td>\n",
       "      <td>Tuesday</td>\n",
       "      <td>0</td>\n",
       "      <td>1</td>\n",
       "      <td>1</td>\n",
       "    </tr>\n",
       "    <tr>\n",
       "      <th>2</th>\n",
       "      <td>1974-12-20</td>\n",
       "      <td>1974</td>\n",
       "      <td>12</td>\n",
       "      <td>December</td>\n",
       "      <td>20</td>\n",
       "      <td>4</td>\n",
       "      <td>Friday</td>\n",
       "      <td>0</td>\n",
       "      <td>4</td>\n",
       "      <td>2</td>\n",
       "    </tr>\n",
       "    <tr>\n",
       "      <th>3</th>\n",
       "      <td>1993-12-15</td>\n",
       "      <td>1993</td>\n",
       "      <td>12</td>\n",
       "      <td>December</td>\n",
       "      <td>15</td>\n",
       "      <td>2</td>\n",
       "      <td>Wednesday</td>\n",
       "      <td>0</td>\n",
       "      <td>4</td>\n",
       "      <td>2</td>\n",
       "    </tr>\n",
       "    <tr>\n",
       "      <th>4</th>\n",
       "      <td>1957-04-10</td>\n",
       "      <td>1957</td>\n",
       "      <td>4</td>\n",
       "      <td>April</td>\n",
       "      <td>10</td>\n",
       "      <td>2</td>\n",
       "      <td>Wednesday</td>\n",
       "      <td>0</td>\n",
       "      <td>2</td>\n",
       "      <td>1</td>\n",
       "    </tr>\n",
       "  </tbody>\n",
       "</table>\n",
       "</div>"
      ],
      "text/plain": [
       "  release_date  df_year  df_Month df_Month_Name  df_Days  df_day_of_week  \\\n",
       "0   1994-09-23     1994         9     September       23               4   \n",
       "1   1972-03-14     1972         3         March       14               1   \n",
       "2   1974-12-20     1974        12      December       20               4   \n",
       "3   1993-12-15     1993        12      December       15               2   \n",
       "4   1957-04-10     1957         4         April       10               2   \n",
       "\n",
       "  df_Day_Name  date_is_weekend  Quarter  Smester  \n",
       "0      Friday                0        3        2  \n",
       "1     Tuesday                0        1        1  \n",
       "2      Friday                0        4        2  \n",
       "3   Wednesday                0        4        2  \n",
       "4   Wednesday                0        2        1  "
      ]
     },
     "execution_count": 33,
     "metadata": {},
     "output_type": "execute_result"
    }
   ],
   "source": [
    "# Extract Smester\n",
    "df['Smester'] = np.where(df['Quarter'].isin([1,2]),1,2)\n",
    "df.drop(columns=['Unnamed: 0','id','popularity','vote_count']).head()"
   ]
  },
  {
   "cell_type": "code",
   "execution_count": 34,
   "id": "51a7a6f1",
   "metadata": {},
   "outputs": [],
   "source": [
    "# EXtract Time elapsed between dates\n",
    "import datetime"
   ]
  },
  {
   "cell_type": "code",
   "execution_count": 35,
   "id": "192fd0c2",
   "metadata": {},
   "outputs": [],
   "source": [
    "today = datetime.datetime.today()"
   ]
  },
  {
   "cell_type": "code",
   "execution_count": 36,
   "id": "b673f79b",
   "metadata": {},
   "outputs": [
    {
     "data": {
      "text/plain": [
       "datetime.datetime(2024, 2, 24, 22, 56, 33, 845982)"
      ]
     },
     "execution_count": 36,
     "metadata": {},
     "output_type": "execute_result"
    }
   ],
   "source": [
    "today"
   ]
  },
  {
   "cell_type": "code",
   "execution_count": 37,
   "id": "50f3ade8",
   "metadata": {},
   "outputs": [
    {
     "data": {
      "text/plain": [
       "0    10746 days 22:56:33.845982\n",
       "1    18974 days 22:56:33.845982\n",
       "2    17963 days 22:56:33.845982\n",
       "3    11028 days 22:56:33.845982\n",
       "4    24426 days 22:56:33.845982\n",
       "                ...            \n",
       "75    1254 days 22:56:33.845982\n",
       "76    1808 days 22:56:33.845982\n",
       "77   21924 days 22:56:33.845982\n",
       "78    1598 days 22:56:33.845982\n",
       "79   28190 days 22:56:33.845982\n",
       "Name: release_date, Length: 80, dtype: timedelta64[ns]"
      ]
     },
     "execution_count": 37,
     "metadata": {},
     "output_type": "execute_result"
    }
   ],
   "source": [
    "today-df['release_date']"
   ]
  },
  {
   "cell_type": "code",
   "execution_count": 40,
   "id": "09708326",
   "metadata": {},
   "outputs": [
    {
     "data": {
      "text/plain": [
       "0     10746\n",
       "1     18974\n",
       "2     17963\n",
       "3     11028\n",
       "4     24426\n",
       "      ...  \n",
       "75     1254\n",
       "76     1808\n",
       "77    21924\n",
       "78     1598\n",
       "79    28190\n",
       "Name: release_date, Length: 80, dtype: int64"
      ]
     },
     "execution_count": 40,
     "metadata": {},
     "output_type": "execute_result"
    }
   ],
   "source": [
    "(today-df['release_date']).dt.days"
   ]
  },
  {
   "cell_type": "code",
   "execution_count": 43,
   "id": "afd02606",
   "metadata": {},
   "outputs": [
    {
     "data": {
      "text/plain": [
       "0     347.0\n",
       "1     612.0\n",
       "2     579.0\n",
       "3     356.0\n",
       "4     788.0\n",
       "      ...  \n",
       "75     40.0\n",
       "76     58.0\n",
       "77    707.0\n",
       "78     52.0\n",
       "79    909.0\n",
       "Name: release_date, Length: 80, dtype: float64"
      ]
     },
     "execution_count": 43,
     "metadata": {},
     "output_type": "execute_result"
    }
   ],
   "source": [
    "# month passed\n",
    "np.round((today - df['release_date'])/np.timedelta64(1,'M'),0)"
   ]
  },
  {
   "cell_type": "code",
   "execution_count": null,
   "id": "10000dcb",
   "metadata": {},
   "outputs": [],
   "source": []
  }
 ],
 "metadata": {
  "kernelspec": {
   "display_name": "Python 3 (ipykernel)",
   "language": "python",
   "name": "python3"
  },
  "language_info": {
   "codemirror_mode": {
    "name": "ipython",
    "version": 3
   },
   "file_extension": ".py",
   "mimetype": "text/x-python",
   "name": "python",
   "nbconvert_exporter": "python",
   "pygments_lexer": "ipython3",
   "version": "3.11.5"
  }
 },
 "nbformat": 4,
 "nbformat_minor": 5
}
